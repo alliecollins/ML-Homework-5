{
 "cells": [
  {
   "cell_type": "markdown",
   "metadata": {},
   "source": [
    "# Homework 3 - Code Outputs"
   ]
  },
  {
   "cell_type": "markdown",
   "metadata": {},
   "source": [
    "## Allison Collins"
   ]
  },
  {
   "cell_type": "markdown",
   "metadata": {},
   "source": [
    "## Document Overview"
   ]
  },
  {
   "cell_type": "markdown",
   "metadata": {},
   "source": [
    "In this file, I will run my updated pipeline on the kaggle credit dataset. Given the number of thresholds we were asked to compare, I reduced the different values of each of the other parameters from my initial exploration, as I did not see huge differences in performance, to improve the readability and length of this document.\n",
    "\n",
    "I run each model individually with the associated performance outputs to try to make it clearer given the volume of information. Additionally, the baseline is computed using the sklearn dummy classifier as a baseline metric.\n",
    "\n",
    "***A few notes and citations: \n",
    "\n",
    "-- I consulted lab materials both here and in the pipeline document (specifically for adjusting thresholds & calculations from predicted scores; looping over models modifying parameters; investigating feature importance.) \n",
    "\n",
    "--At the end of each section per type of model, I include a chart which has all of the performance metrics across models. The date, threshold, and other (specific to the model) parameter values are included in the leftmost column. \n",
    "\n",
    "--I will call out in the different sections some models with better performance; the policy memo will stick to the implications for implementations and avoid too much technical language as per the instructions."
   ]
  },
  {
   "cell_type": "markdown",
   "metadata": {},
   "source": [
    "## Data cleaning and processing"
   ]
  },
  {
   "cell_type": "markdown",
   "metadata": {},
   "source": [
    "We will import the pipeline file and a few other modules we might need in cleaning the data (specific to this dataset and the task at hand)."
   ]
  },
  {
   "cell_type": "code",
   "execution_count": 1,
   "metadata": {},
   "outputs": [],
   "source": [
    "import pipeline_revised\n",
    "import pandas as pd\n",
    "import pydot\n",
    "import numpy as np\n",
    "import warnings\n",
    "warnings.simplefilter('ignore')"
   ]
  },
  {
   "cell_type": "code",
   "execution_count": 2,
   "metadata": {},
   "outputs": [],
   "source": [
    "#Read in the data\n",
    "df = pipeline_revised.read_file('projects_2012_2013.csv')"
   ]
  },
  {
   "cell_type": "code",
   "execution_count": 3,
   "metadata": {},
   "outputs": [],
   "source": [
    "#Check its contents\n",
    "#df.columns"
   ]
  },
  {
   "cell_type": "code",
   "execution_count": 4,
   "metadata": {},
   "outputs": [],
   "source": [
    "#df.head(1)"
   ]
  },
  {
   "cell_type": "markdown",
   "metadata": {},
   "source": [
    "For this particular dataset, our target variable is time to funding, so we will need to create an additional column which looks at the time required to get full funding (e.g. the difference between date posted and date fully funded, since this is not explicitly included in the dataset)."
   ]
  },
  {
   "cell_type": "code",
   "execution_count": 5,
   "metadata": {},
   "outputs": [
    {
     "data": {
      "text/html": [
       "<div>\n",
       "<style scoped>\n",
       "    .dataframe tbody tr th:only-of-type {\n",
       "        vertical-align: middle;\n",
       "    }\n",
       "\n",
       "    .dataframe tbody tr th {\n",
       "        vertical-align: top;\n",
       "    }\n",
       "\n",
       "    .dataframe thead th {\n",
       "        text-align: right;\n",
       "    }\n",
       "</style>\n",
       "<table border=\"1\" class=\"dataframe\">\n",
       "  <thead>\n",
       "    <tr style=\"text-align: right;\">\n",
       "      <th></th>\n",
       "      <th>projectid</th>\n",
       "      <th>teacher_acctid</th>\n",
       "      <th>schoolid</th>\n",
       "      <th>school_ncesid</th>\n",
       "      <th>school_latitude</th>\n",
       "      <th>school_longitude</th>\n",
       "      <th>school_city</th>\n",
       "      <th>school_state</th>\n",
       "      <th>school_metro</th>\n",
       "      <th>school_district</th>\n",
       "      <th>...</th>\n",
       "      <th>secondary_focus_area</th>\n",
       "      <th>resource_type</th>\n",
       "      <th>poverty_level</th>\n",
       "      <th>grade_level</th>\n",
       "      <th>total_price_including_optional_support</th>\n",
       "      <th>students_reached</th>\n",
       "      <th>eligible_double_your_impact_match</th>\n",
       "      <th>date_posted</th>\n",
       "      <th>datefullyfunded</th>\n",
       "      <th>time_to_funding</th>\n",
       "    </tr>\n",
       "  </thead>\n",
       "  <tbody>\n",
       "    <tr>\n",
       "      <th>0</th>\n",
       "      <td>00001ccc0e81598c4bd86bacb94d7acb</td>\n",
       "      <td>96963218e74e10c3764a5cfb153e6fea</td>\n",
       "      <td>9f3f9f2c2da7edda5648ccd10554ed8c</td>\n",
       "      <td>1.709930e+11</td>\n",
       "      <td>41.807654</td>\n",
       "      <td>-87.673257</td>\n",
       "      <td>Chicago</td>\n",
       "      <td>IL</td>\n",
       "      <td>urban</td>\n",
       "      <td>Pershing Elem Network</td>\n",
       "      <td>...</td>\n",
       "      <td>Music &amp; The Arts</td>\n",
       "      <td>Supplies</td>\n",
       "      <td>highest poverty</td>\n",
       "      <td>Grades PreK-2</td>\n",
       "      <td>1498.61</td>\n",
       "      <td>31.0</td>\n",
       "      <td>f</td>\n",
       "      <td>2013-04-14</td>\n",
       "      <td>2013-05-02</td>\n",
       "      <td>18</td>\n",
       "    </tr>\n",
       "  </tbody>\n",
       "</table>\n",
       "<p>1 rows × 27 columns</p>\n",
       "</div>"
      ],
      "text/plain": [
       "                          projectid                    teacher_acctid  \\\n",
       "0  00001ccc0e81598c4bd86bacb94d7acb  96963218e74e10c3764a5cfb153e6fea   \n",
       "\n",
       "                           schoolid  school_ncesid  school_latitude  \\\n",
       "0  9f3f9f2c2da7edda5648ccd10554ed8c   1.709930e+11        41.807654   \n",
       "\n",
       "   school_longitude school_city school_state school_metro  \\\n",
       "0        -87.673257     Chicago           IL        urban   \n",
       "\n",
       "         school_district  ... secondary_focus_area resource_type  \\\n",
       "0  Pershing Elem Network  ...     Music & The Arts      Supplies   \n",
       "\n",
       "     poverty_level    grade_level total_price_including_optional_support  \\\n",
       "0  highest poverty  Grades PreK-2                                1498.61   \n",
       "\n",
       "  students_reached eligible_double_your_impact_match date_posted  \\\n",
       "0             31.0                                 f  2013-04-14   \n",
       "\n",
       "  datefullyfunded time_to_funding  \n",
       "0      2013-05-02              18  \n",
       "\n",
       "[1 rows x 27 columns]"
      ]
     },
     "execution_count": 5,
     "metadata": {},
     "output_type": "execute_result"
    }
   ],
   "source": [
    "df['datefullyfunded'] = pd.to_datetime(df.datefullyfunded)\n",
    "df['date_posted'] = pd.to_datetime(df.date_posted)\n",
    "df['time_to_funding'] = (df.datefullyfunded - df.date_posted).dt.days\n",
    "df.head(1)"
   ]
  },
  {
   "cell_type": "markdown",
   "metadata": {},
   "source": [
    "In addition, we will have to create a binary outcome \"label\" column which assigns 1 or 0 based on whether the time to funding was over or under 60. We will also convert a few of the categorical variables to dummy columns so that we can include those in our analysis as well."
   ]
  },
  {
   "cell_type": "code",
   "execution_count": 6,
   "metadata": {},
   "outputs": [],
   "source": [
    "df = df.dropna(axis=0,subset=['time_to_funding','total_price_including_optional_support','students_reached'])\n",
    "#We will convert the time-to-funding column to be binary as required for some of the models\n",
    "df['time_tf'] = np.where(df['time_to_funding']>=60, 1, 0)\n",
    "\n",
    "#We will convert a few columns to use in our analysis\n",
    "#df = pipeline_revised.create_binary_col(df, 'eligible_double_your_impact_match', {'t':1,'f':0})\n",
    "#df = pipeline_revised.discretize_categorical(df, ['poverty_level','resource_type','primary_focus_subject','school_metro'])\n",
    "\n",
    "#Now we can look at columns to grab which we want as predictors\n",
    "#df.columns"
   ]
  },
  {
   "cell_type": "code",
   "execution_count": 7,
   "metadata": {},
   "outputs": [],
   "source": [
    "x_train, x_test, y_train, y_test = pipeline_revised.temporal_split(\n",
    "    df,'date_posted','2013-05-31',180,60,'time_tf',predictors=[\n",
    "        'total_price_including_optional_support','students_reached']) "
   ]
  },
  {
   "cell_type": "code",
   "execution_count": 8,
   "metadata": {},
   "outputs": [
    {
     "data": {
      "text/plain": [
       "<Figure size 432x288 with 0 Axes>"
      ]
     },
     "metadata": {},
     "output_type": "display_data"
    },
    {
     "data": {
      "text/plain": [
       "<Figure size 432x288 with 0 Axes>"
      ]
     },
     "metadata": {},
     "output_type": "display_data"
    },
    {
     "data": {
      "text/plain": [
       "<Figure size 432x288 with 0 Axes>"
      ]
     },
     "metadata": {},
     "output_type": "display_data"
    },
    {
     "data": {
      "text/plain": [
       "<Figure size 432x288 with 0 Axes>"
      ]
     },
     "metadata": {},
     "output_type": "display_data"
    },
    {
     "data": {
      "text/plain": [
       "<Figure size 432x288 with 0 Axes>"
      ]
     },
     "metadata": {},
     "output_type": "display_data"
    },
    {
     "data": {
      "text/plain": [
       "<Figure size 432x288 with 0 Axes>"
      ]
     },
     "metadata": {},
     "output_type": "display_data"
    },
    {
     "data": {
      "text/plain": [
       "<Figure size 432x288 with 0 Axes>"
      ]
     },
     "metadata": {},
     "output_type": "display_data"
    },
    {
     "data": {
      "text/plain": [
       "<Figure size 432x288 with 0 Axes>"
      ]
     },
     "metadata": {},
     "output_type": "display_data"
    },
    {
     "data": {
      "text/plain": [
       "<Figure size 432x288 with 0 Axes>"
      ]
     },
     "metadata": {},
     "output_type": "display_data"
    },
    {
     "data": {
      "text/plain": [
       "<Figure size 432x288 with 0 Axes>"
      ]
     },
     "metadata": {},
     "output_type": "display_data"
    },
    {
     "data": {
      "text/plain": [
       "<Figure size 432x288 with 0 Axes>"
      ]
     },
     "metadata": {},
     "output_type": "display_data"
    },
    {
     "data": {
      "text/plain": [
       "<Figure size 432x288 with 0 Axes>"
      ]
     },
     "metadata": {},
     "output_type": "display_data"
    },
    {
     "data": {
      "text/plain": [
       "<Figure size 432x288 with 0 Axes>"
      ]
     },
     "metadata": {},
     "output_type": "display_data"
    },
    {
     "data": {
      "text/plain": [
       "<Figure size 432x288 with 0 Axes>"
      ]
     },
     "metadata": {},
     "output_type": "display_data"
    },
    {
     "data": {
      "text/plain": [
       "<Figure size 432x288 with 0 Axes>"
      ]
     },
     "metadata": {},
     "output_type": "display_data"
    },
    {
     "data": {
      "text/plain": [
       "<Figure size 432x288 with 0 Axes>"
      ]
     },
     "metadata": {},
     "output_type": "display_data"
    },
    {
     "data": {
      "text/plain": [
       "<Figure size 432x288 with 0 Axes>"
      ]
     },
     "metadata": {},
     "output_type": "display_data"
    },
    {
     "data": {
      "text/plain": [
       "<Figure size 432x288 with 0 Axes>"
      ]
     },
     "metadata": {},
     "output_type": "display_data"
    },
    {
     "data": {
      "text/plain": [
       "<Figure size 432x288 with 0 Axes>"
      ]
     },
     "metadata": {},
     "output_type": "display_data"
    },
    {
     "data": {
      "text/plain": [
       "<Figure size 432x288 with 0 Axes>"
      ]
     },
     "metadata": {},
     "output_type": "display_data"
    },
    {
     "data": {
      "text/plain": [
       "<Figure size 432x288 with 0 Axes>"
      ]
     },
     "metadata": {},
     "output_type": "display_data"
    },
    {
     "data": {
      "text/plain": [
       "<Figure size 432x288 with 0 Axes>"
      ]
     },
     "metadata": {},
     "output_type": "display_data"
    },
    {
     "data": {
      "text/plain": [
       "<Figure size 432x288 with 0 Axes>"
      ]
     },
     "metadata": {},
     "output_type": "display_data"
    },
    {
     "data": {
      "text/plain": [
       "<Figure size 432x288 with 0 Axes>"
      ]
     },
     "metadata": {},
     "output_type": "display_data"
    },
    {
     "data": {
      "image/png": "[encoded data removed]",
      "text/plain": [
       "<Figure size 432x288 with 2 Axes>"
      ]
     },
     "metadata": {
      "needs_background": "light"
     },
     "output_type": "display_data"
    }
   ],
   "source": [
    "mydf = pipeline_revised.run_models(x_train, x_test, y_train, y_test,models_to_run='all')"
   ]
  },
  {
   "cell_type": "code",
   "execution_count": 9,
   "metadata": {},
   "outputs": [
    {
     "data": {
      "text/html": [
       "<div>\n",
       "<style scoped>\n",
       "    .dataframe tbody tr th:only-of-type {\n",
       "        vertical-align: middle;\n",
       "    }\n",
       "\n",
       "    .dataframe tbody tr th {\n",
       "        vertical-align: top;\n",
       "    }\n",
       "\n",
       "    .dataframe thead th {\n",
       "        text-align: right;\n",
       "    }\n",
       "</style>\n",
       "<table border=\"1\" class=\"dataframe\">\n",
       "  <thead>\n",
       "    <tr style=\"text-align: right;\">\n",
       "      <th></th>\n",
       "      <th>model_type</th>\n",
       "      <th>clf</th>\n",
       "      <th>parameters</th>\n",
       "      <th>train_set_size</th>\n",
       "      <th>validation_set_size</th>\n",
       "      <th>baseline</th>\n",
       "      <th>precision_at_5</th>\n",
       "      <th>precision_at_10</th>\n",
       "      <th>precision_at_20</th>\n",
       "      <th>precision_at_30</th>\n",
       "      <th>precision_at_40</th>\n",
       "      <th>precision_at_50</th>\n",
       "      <th>recall_at_5</th>\n",
       "      <th>recall_at_10</th>\n",
       "      <th>recall_at_20</th>\n",
       "      <th>recall_at_30</th>\n",
       "      <th>recall_at_40</th>\n",
       "      <th>recall_at_50</th>\n",
       "      <th>auc-roc</th>\n",
       "    </tr>\n",
       "  </thead>\n",
       "  <tbody>\n",
       "    <tr>\n",
       "      <th>0</th>\n",
       "      <td>DT</td>\n",
       "      <td>DecisionTreeClassifier(class_weight=None, crit...</td>\n",
       "      <td>{'criterion': 'gini', 'max_depth': 1, 'min_sam...</td>\n",
       "      <td>84804</td>\n",
       "      <td>7479</td>\n",
       "      <td>0.353122</td>\n",
       "      <td>0.431635</td>\n",
       "      <td>0.416332</td>\n",
       "      <td>0.433445</td>\n",
       "      <td>0.438252</td>\n",
       "      <td>0.428619</td>\n",
       "      <td>0.427654</td>\n",
       "      <td>0.060962</td>\n",
       "      <td>0.117758</td>\n",
       "      <td>0.245362</td>\n",
       "      <td>0.372207</td>\n",
       "      <td>0.485422</td>\n",
       "      <td>0.605452</td>\n",
       "      <td>0.606432</td>\n",
       "    </tr>\n",
       "    <tr>\n",
       "      <th>1</th>\n",
       "      <td>DT</td>\n",
       "      <td>DecisionTreeClassifier(class_weight=None, crit...</td>\n",
       "      <td>{'criterion': 'gini', 'max_depth': 1, 'min_sam...</td>\n",
       "      <td>84804</td>\n",
       "      <td>7479</td>\n",
       "      <td>0.353122</td>\n",
       "      <td>0.431635</td>\n",
       "      <td>0.416332</td>\n",
       "      <td>0.433445</td>\n",
       "      <td>0.438252</td>\n",
       "      <td>0.428619</td>\n",
       "      <td>0.427654</td>\n",
       "      <td>0.060962</td>\n",
       "      <td>0.117758</td>\n",
       "      <td>0.245362</td>\n",
       "      <td>0.372207</td>\n",
       "      <td>0.485422</td>\n",
       "      <td>0.605452</td>\n",
       "      <td>0.606432</td>\n",
       "    </tr>\n",
       "    <tr>\n",
       "      <th>2</th>\n",
       "      <td>DT</td>\n",
       "      <td>DecisionTreeClassifier(class_weight=None, crit...</td>\n",
       "      <td>{'criterion': 'gini', 'max_depth': 1, 'min_sam...</td>\n",
       "      <td>84804</td>\n",
       "      <td>7479</td>\n",
       "      <td>0.353122</td>\n",
       "      <td>0.431635</td>\n",
       "      <td>0.416332</td>\n",
       "      <td>0.433445</td>\n",
       "      <td>0.438252</td>\n",
       "      <td>0.428619</td>\n",
       "      <td>0.427654</td>\n",
       "      <td>0.060962</td>\n",
       "      <td>0.117758</td>\n",
       "      <td>0.245362</td>\n",
       "      <td>0.372207</td>\n",
       "      <td>0.485422</td>\n",
       "      <td>0.605452</td>\n",
       "      <td>0.606432</td>\n",
       "    </tr>\n",
       "    <tr>\n",
       "      <th>3</th>\n",
       "      <td>DT</td>\n",
       "      <td>DecisionTreeClassifier(class_weight=None, crit...</td>\n",
       "      <td>{'criterion': 'gini', 'max_depth': 5, 'min_sam...</td>\n",
       "      <td>84804</td>\n",
       "      <td>7479</td>\n",
       "      <td>0.353122</td>\n",
       "      <td>0.514745</td>\n",
       "      <td>0.497992</td>\n",
       "      <td>0.494983</td>\n",
       "      <td>0.489077</td>\n",
       "      <td>0.461050</td>\n",
       "      <td>0.445039</td>\n",
       "      <td>0.072700</td>\n",
       "      <td>0.140856</td>\n",
       "      <td>0.280197</td>\n",
       "      <td>0.415373</td>\n",
       "      <td>0.522151</td>\n",
       "      <td>0.630064</td>\n",
       "      <td>0.647338</td>\n",
       "    </tr>\n",
       "    <tr>\n",
       "      <th>4</th>\n",
       "      <td>DT</td>\n",
       "      <td>DecisionTreeClassifier(class_weight=None, crit...</td>\n",
       "      <td>{'criterion': 'gini', 'max_depth': 5, 'min_sam...</td>\n",
       "      <td>84804</td>\n",
       "      <td>7479</td>\n",
       "      <td>0.353122</td>\n",
       "      <td>0.514745</td>\n",
       "      <td>0.497992</td>\n",
       "      <td>0.494983</td>\n",
       "      <td>0.489077</td>\n",
       "      <td>0.461050</td>\n",
       "      <td>0.445039</td>\n",
       "      <td>0.072700</td>\n",
       "      <td>0.140856</td>\n",
       "      <td>0.280197</td>\n",
       "      <td>0.415373</td>\n",
       "      <td>0.522151</td>\n",
       "      <td>0.630064</td>\n",
       "      <td>0.647338</td>\n",
       "    </tr>\n",
       "    <tr>\n",
       "      <th>5</th>\n",
       "      <td>DT</td>\n",
       "      <td>DecisionTreeClassifier(class_weight=None, crit...</td>\n",
       "      <td>{'criterion': 'gini', 'max_depth': 5, 'min_sam...</td>\n",
       "      <td>84804</td>\n",
       "      <td>7479</td>\n",
       "      <td>0.353122</td>\n",
       "      <td>0.514745</td>\n",
       "      <td>0.497992</td>\n",
       "      <td>0.494983</td>\n",
       "      <td>0.489077</td>\n",
       "      <td>0.461050</td>\n",
       "      <td>0.445039</td>\n",
       "      <td>0.072700</td>\n",
       "      <td>0.140856</td>\n",
       "      <td>0.280197</td>\n",
       "      <td>0.415373</td>\n",
       "      <td>0.522151</td>\n",
       "      <td>0.630064</td>\n",
       "      <td>0.647338</td>\n",
       "    </tr>\n",
       "    <tr>\n",
       "      <th>6</th>\n",
       "      <td>DT</td>\n",
       "      <td>DecisionTreeClassifier(class_weight=None, crit...</td>\n",
       "      <td>{'criterion': 'gini', 'max_depth': 10, 'min_sa...</td>\n",
       "      <td>84804</td>\n",
       "      <td>7479</td>\n",
       "      <td>0.353122</td>\n",
       "      <td>0.646113</td>\n",
       "      <td>0.586345</td>\n",
       "      <td>0.539130</td>\n",
       "      <td>0.498440</td>\n",
       "      <td>0.474423</td>\n",
       "      <td>0.454667</td>\n",
       "      <td>0.091253</td>\n",
       "      <td>0.165846</td>\n",
       "      <td>0.305187</td>\n",
       "      <td>0.423324</td>\n",
       "      <td>0.537296</td>\n",
       "      <td>0.643696</td>\n",
       "      <td>0.668958</td>\n",
       "    </tr>\n",
       "    <tr>\n",
       "      <th>7</th>\n",
       "      <td>DT</td>\n",
       "      <td>DecisionTreeClassifier(class_weight=None, crit...</td>\n",
       "      <td>{'criterion': 'gini', 'max_depth': 10, 'min_sa...</td>\n",
       "      <td>84804</td>\n",
       "      <td>7479</td>\n",
       "      <td>0.353122</td>\n",
       "      <td>0.648794</td>\n",
       "      <td>0.583668</td>\n",
       "      <td>0.539130</td>\n",
       "      <td>0.498440</td>\n",
       "      <td>0.474423</td>\n",
       "      <td>0.457074</td>\n",
       "      <td>0.091632</td>\n",
       "      <td>0.165089</td>\n",
       "      <td>0.305187</td>\n",
       "      <td>0.423324</td>\n",
       "      <td>0.537296</td>\n",
       "      <td>0.647103</td>\n",
       "      <td>0.668814</td>\n",
       "    </tr>\n",
       "    <tr>\n",
       "      <th>8</th>\n",
       "      <td>DT</td>\n",
       "      <td>DecisionTreeClassifier(class_weight=None, crit...</td>\n",
       "      <td>{'criterion': 'gini', 'max_depth': 10, 'min_sa...</td>\n",
       "      <td>84804</td>\n",
       "      <td>7479</td>\n",
       "      <td>0.353122</td>\n",
       "      <td>0.635389</td>\n",
       "      <td>0.582329</td>\n",
       "      <td>0.537124</td>\n",
       "      <td>0.499777</td>\n",
       "      <td>0.470746</td>\n",
       "      <td>0.452795</td>\n",
       "      <td>0.089739</td>\n",
       "      <td>0.164710</td>\n",
       "      <td>0.304051</td>\n",
       "      <td>0.424460</td>\n",
       "      <td>0.533131</td>\n",
       "      <td>0.641045</td>\n",
       "      <td>0.667543</td>\n",
       "    </tr>\n",
       "    <tr>\n",
       "      <th>9</th>\n",
       "      <td>DT</td>\n",
       "      <td>DecisionTreeClassifier(class_weight=None, crit...</td>\n",
       "      <td>{'criterion': 'gini', 'max_depth': 20, 'min_sa...</td>\n",
       "      <td>84804</td>\n",
       "      <td>7479</td>\n",
       "      <td>0.353122</td>\n",
       "      <td>0.994638</td>\n",
       "      <td>0.943775</td>\n",
       "      <td>0.744482</td>\n",
       "      <td>0.652251</td>\n",
       "      <td>0.588766</td>\n",
       "      <td>0.544798</td>\n",
       "      <td>0.140477</td>\n",
       "      <td>0.266944</td>\n",
       "      <td>0.421431</td>\n",
       "      <td>0.553957</td>\n",
       "      <td>0.666793</td>\n",
       "      <td>0.771299</td>\n",
       "      <td>0.806938</td>\n",
       "    </tr>\n",
       "    <tr>\n",
       "      <th>10</th>\n",
       "      <td>DT</td>\n",
       "      <td>DecisionTreeClassifier(class_weight=None, crit...</td>\n",
       "      <td>{'criterion': 'gini', 'max_depth': 20, 'min_sa...</td>\n",
       "      <td>84804</td>\n",
       "      <td>7479</td>\n",
       "      <td>0.353122</td>\n",
       "      <td>0.994638</td>\n",
       "      <td>0.904953</td>\n",
       "      <td>0.721739</td>\n",
       "      <td>0.636647</td>\n",
       "      <td>0.579405</td>\n",
       "      <td>0.534635</td>\n",
       "      <td>0.140477</td>\n",
       "      <td>0.255964</td>\n",
       "      <td>0.408557</td>\n",
       "      <td>0.540704</td>\n",
       "      <td>0.656191</td>\n",
       "      <td>0.756910</td>\n",
       "      <td>0.793447</td>\n",
       "    </tr>\n",
       "    <tr>\n",
       "      <th>11</th>\n",
       "      <td>DT</td>\n",
       "      <td>DecisionTreeClassifier(class_weight=None, crit...</td>\n",
       "      <td>{'criterion': 'gini', 'max_depth': 20, 'min_sa...</td>\n",
       "      <td>84804</td>\n",
       "      <td>7479</td>\n",
       "      <td>0.353122</td>\n",
       "      <td>0.962466</td>\n",
       "      <td>0.851406</td>\n",
       "      <td>0.688294</td>\n",
       "      <td>0.617477</td>\n",
       "      <td>0.563357</td>\n",
       "      <td>0.523937</td>\n",
       "      <td>0.135933</td>\n",
       "      <td>0.240818</td>\n",
       "      <td>0.389625</td>\n",
       "      <td>0.524423</td>\n",
       "      <td>0.638016</td>\n",
       "      <td>0.741764</td>\n",
       "      <td>0.775679</td>\n",
       "    </tr>\n",
       "    <tr>\n",
       "      <th>12</th>\n",
       "      <td>DT</td>\n",
       "      <td>DecisionTreeClassifier(class_weight=None, crit...</td>\n",
       "      <td>{'criterion': 'entropy', 'max_depth': 1, 'min_...</td>\n",
       "      <td>84804</td>\n",
       "      <td>7479</td>\n",
       "      <td>0.353122</td>\n",
       "      <td>0.407507</td>\n",
       "      <td>0.393574</td>\n",
       "      <td>0.420736</td>\n",
       "      <td>0.429782</td>\n",
       "      <td>0.421598</td>\n",
       "      <td>0.412142</td>\n",
       "      <td>0.057554</td>\n",
       "      <td>0.111321</td>\n",
       "      <td>0.238167</td>\n",
       "      <td>0.365013</td>\n",
       "      <td>0.477471</td>\n",
       "      <td>0.583491</td>\n",
       "      <td>0.599188</td>\n",
       "    </tr>\n",
       "    <tr>\n",
       "      <th>13</th>\n",
       "      <td>DT</td>\n",
       "      <td>DecisionTreeClassifier(class_weight=None, crit...</td>\n",
       "      <td>{'criterion': 'entropy', 'max_depth': 1, 'min_...</td>\n",
       "      <td>84804</td>\n",
       "      <td>7479</td>\n",
       "      <td>0.353122</td>\n",
       "      <td>0.407507</td>\n",
       "      <td>0.393574</td>\n",
       "      <td>0.420736</td>\n",
       "      <td>0.429782</td>\n",
       "      <td>0.421598</td>\n",
       "      <td>0.412142</td>\n",
       "      <td>0.057554</td>\n",
       "      <td>0.111321</td>\n",
       "      <td>0.238167</td>\n",
       "      <td>0.365013</td>\n",
       "      <td>0.477471</td>\n",
       "      <td>0.583491</td>\n",
       "      <td>0.599188</td>\n",
       "    </tr>\n",
       "    <tr>\n",
       "      <th>14</th>\n",
       "      <td>DT</td>\n",
       "      <td>DecisionTreeClassifier(class_weight=None, crit...</td>\n",
       "      <td>{'criterion': 'entropy', 'max_depth': 1, 'min_...</td>\n",
       "      <td>84804</td>\n",
       "      <td>7479</td>\n",
       "      <td>0.353122</td>\n",
       "      <td>0.407507</td>\n",
       "      <td>0.393574</td>\n",
       "      <td>0.420736</td>\n",
       "      <td>0.429782</td>\n",
       "      <td>0.421598</td>\n",
       "      <td>0.412142</td>\n",
       "      <td>0.057554</td>\n",
       "      <td>0.111321</td>\n",
       "      <td>0.238167</td>\n",
       "      <td>0.365013</td>\n",
       "      <td>0.477471</td>\n",
       "      <td>0.583491</td>\n",
       "      <td>0.599188</td>\n",
       "    </tr>\n",
       "    <tr>\n",
       "      <th>15</th>\n",
       "      <td>DT</td>\n",
       "      <td>DecisionTreeClassifier(class_weight=None, crit...</td>\n",
       "      <td>{'criterion': 'entropy', 'max_depth': 5, 'min_...</td>\n",
       "      <td>84804</td>\n",
       "      <td>7479</td>\n",
       "      <td>0.353122</td>\n",
       "      <td>0.525469</td>\n",
       "      <td>0.506024</td>\n",
       "      <td>0.502341</td>\n",
       "      <td>0.485510</td>\n",
       "      <td>0.463390</td>\n",
       "      <td>0.447178</td>\n",
       "      <td>0.074214</td>\n",
       "      <td>0.143128</td>\n",
       "      <td>0.284362</td>\n",
       "      <td>0.412344</td>\n",
       "      <td>0.524801</td>\n",
       "      <td>0.633094</td>\n",
       "      <td>0.649036</td>\n",
       "    </tr>\n",
       "    <tr>\n",
       "      <th>16</th>\n",
       "      <td>DT</td>\n",
       "      <td>DecisionTreeClassifier(class_weight=None, crit...</td>\n",
       "      <td>{'criterion': 'entropy', 'max_depth': 5, 'min_...</td>\n",
       "      <td>84804</td>\n",
       "      <td>7479</td>\n",
       "      <td>0.353122</td>\n",
       "      <td>0.525469</td>\n",
       "      <td>0.506024</td>\n",
       "      <td>0.502341</td>\n",
       "      <td>0.485510</td>\n",
       "      <td>0.463390</td>\n",
       "      <td>0.447178</td>\n",
       "      <td>0.074214</td>\n",
       "      <td>0.143128</td>\n",
       "      <td>0.284362</td>\n",
       "      <td>0.412344</td>\n",
       "      <td>0.524801</td>\n",
       "      <td>0.633094</td>\n",
       "      <td>0.649036</td>\n",
       "    </tr>\n",
       "    <tr>\n",
       "      <th>17</th>\n",
       "      <td>DT</td>\n",
       "      <td>DecisionTreeClassifier(class_weight=None, crit...</td>\n",
       "      <td>{'criterion': 'entropy', 'max_depth': 5, 'min_...</td>\n",
       "      <td>84804</td>\n",
       "      <td>7479</td>\n",
       "      <td>0.353122</td>\n",
       "      <td>0.525469</td>\n",
       "      <td>0.506024</td>\n",
       "      <td>0.502341</td>\n",
       "      <td>0.485510</td>\n",
       "      <td>0.463390</td>\n",
       "      <td>0.447178</td>\n",
       "      <td>0.074214</td>\n",
       "      <td>0.143128</td>\n",
       "      <td>0.284362</td>\n",
       "      <td>0.412344</td>\n",
       "      <td>0.524801</td>\n",
       "      <td>0.633094</td>\n",
       "      <td>0.649036</td>\n",
       "    </tr>\n",
       "    <tr>\n",
       "      <th>18</th>\n",
       "      <td>DT</td>\n",
       "      <td>DecisionTreeClassifier(class_weight=None, crit...</td>\n",
       "      <td>{'criterion': 'entropy', 'max_depth': 10, 'min...</td>\n",
       "      <td>84804</td>\n",
       "      <td>7479</td>\n",
       "      <td>0.353122</td>\n",
       "      <td>0.635389</td>\n",
       "      <td>0.564926</td>\n",
       "      <td>0.526421</td>\n",
       "      <td>0.500223</td>\n",
       "      <td>0.475426</td>\n",
       "      <td>0.453330</td>\n",
       "      <td>0.089739</td>\n",
       "      <td>0.159788</td>\n",
       "      <td>0.297993</td>\n",
       "      <td>0.424839</td>\n",
       "      <td>0.538432</td>\n",
       "      <td>0.641802</td>\n",
       "      <td>0.664908</td>\n",
       "    </tr>\n",
       "    <tr>\n",
       "      <th>19</th>\n",
       "      <td>DT</td>\n",
       "      <td>DecisionTreeClassifier(class_weight=None, crit...</td>\n",
       "      <td>{'criterion': 'entropy', 'max_depth': 10, 'min...</td>\n",
       "      <td>84804</td>\n",
       "      <td>7479</td>\n",
       "      <td>0.353122</td>\n",
       "      <td>0.635389</td>\n",
       "      <td>0.566265</td>\n",
       "      <td>0.529766</td>\n",
       "      <td>0.500669</td>\n",
       "      <td>0.475092</td>\n",
       "      <td>0.451190</td>\n",
       "      <td>0.089739</td>\n",
       "      <td>0.160167</td>\n",
       "      <td>0.299886</td>\n",
       "      <td>0.425218</td>\n",
       "      <td>0.538054</td>\n",
       "      <td>0.638773</td>\n",
       "      <td>0.664813</td>\n",
       "    </tr>\n",
       "    <tr>\n",
       "      <th>20</th>\n",
       "      <td>DT</td>\n",
       "      <td>DecisionTreeClassifier(class_weight=None, crit...</td>\n",
       "      <td>{'criterion': 'entropy', 'max_depth': 10, 'min...</td>\n",
       "      <td>84804</td>\n",
       "      <td>7479</td>\n",
       "      <td>0.353122</td>\n",
       "      <td>0.627346</td>\n",
       "      <td>0.562249</td>\n",
       "      <td>0.528428</td>\n",
       "      <td>0.500223</td>\n",
       "      <td>0.476764</td>\n",
       "      <td>0.450923</td>\n",
       "      <td>0.088603</td>\n",
       "      <td>0.159031</td>\n",
       "      <td>0.299129</td>\n",
       "      <td>0.424839</td>\n",
       "      <td>0.539947</td>\n",
       "      <td>0.638395</td>\n",
       "      <td>0.664412</td>\n",
       "    </tr>\n",
       "    <tr>\n",
       "      <th>21</th>\n",
       "      <td>DT</td>\n",
       "      <td>DecisionTreeClassifier(class_weight=None, crit...</td>\n",
       "      <td>{'criterion': 'entropy', 'max_depth': 20, 'min...</td>\n",
       "      <td>84804</td>\n",
       "      <td>7479</td>\n",
       "      <td>0.353122</td>\n",
       "      <td>0.994638</td>\n",
       "      <td>0.851406</td>\n",
       "      <td>0.683612</td>\n",
       "      <td>0.608114</td>\n",
       "      <td>0.555333</td>\n",
       "      <td>0.522332</td>\n",
       "      <td>0.140477</td>\n",
       "      <td>0.240818</td>\n",
       "      <td>0.386975</td>\n",
       "      <td>0.516471</td>\n",
       "      <td>0.628928</td>\n",
       "      <td>0.739493</td>\n",
       "      <td>0.774410</td>\n",
       "    </tr>\n",
       "    <tr>\n",
       "      <th>22</th>\n",
       "      <td>DT</td>\n",
       "      <td>DecisionTreeClassifier(class_weight=None, crit...</td>\n",
       "      <td>{'criterion': 'entropy', 'max_depth': 20, 'min...</td>\n",
       "      <td>84804</td>\n",
       "      <td>7479</td>\n",
       "      <td>0.353122</td>\n",
       "      <td>0.981233</td>\n",
       "      <td>0.831325</td>\n",
       "      <td>0.677592</td>\n",
       "      <td>0.602764</td>\n",
       "      <td>0.551655</td>\n",
       "      <td>0.518320</td>\n",
       "      <td>0.138584</td>\n",
       "      <td>0.235138</td>\n",
       "      <td>0.383567</td>\n",
       "      <td>0.511927</td>\n",
       "      <td>0.624763</td>\n",
       "      <td>0.733813</td>\n",
       "      <td>0.769044</td>\n",
       "    </tr>\n",
       "    <tr>\n",
       "      <th>23</th>\n",
       "      <td>DT</td>\n",
       "      <td>DecisionTreeClassifier(class_weight=None, crit...</td>\n",
       "      <td>{'criterion': 'entropy', 'max_depth': 20, 'min...</td>\n",
       "      <td>84804</td>\n",
       "      <td>7479</td>\n",
       "      <td>0.353122</td>\n",
       "      <td>0.922252</td>\n",
       "      <td>0.791165</td>\n",
       "      <td>0.654849</td>\n",
       "      <td>0.590281</td>\n",
       "      <td>0.545303</td>\n",
       "      <td>0.512436</td>\n",
       "      <td>0.130254</td>\n",
       "      <td>0.223779</td>\n",
       "      <td>0.370693</td>\n",
       "      <td>0.501325</td>\n",
       "      <td>0.617569</td>\n",
       "      <td>0.725483</td>\n",
       "      <td>0.757252</td>\n",
       "    </tr>\n",
       "  </tbody>\n",
       "</table>\n",
       "</div>"
      ],
      "text/plain": [
       "   model_type                                                clf  \\\n",
       "0          DT  DecisionTreeClassifier(class_weight=None, crit...   \n",
       "1          DT  DecisionTreeClassifier(class_weight=None, crit...   \n",
       "2          DT  DecisionTreeClassifier(class_weight=None, crit...   \n",
       "3          DT  DecisionTreeClassifier(class_weight=None, crit...   \n",
       "4          DT  DecisionTreeClassifier(class_weight=None, crit...   \n",
       "5          DT  DecisionTreeClassifier(class_weight=None, crit...   \n",
       "6          DT  DecisionTreeClassifier(class_weight=None, crit...   \n",
       "7          DT  DecisionTreeClassifier(class_weight=None, crit...   \n",
       "8          DT  DecisionTreeClassifier(class_weight=None, crit...   \n",
       "9          DT  DecisionTreeClassifier(class_weight=None, crit...   \n",
       "10         DT  DecisionTreeClassifier(class_weight=None, crit...   \n",
       "11         DT  DecisionTreeClassifier(class_weight=None, crit...   \n",
       "12         DT  DecisionTreeClassifier(class_weight=None, crit...   \n",
       "13         DT  DecisionTreeClassifier(class_weight=None, crit...   \n",
       "14         DT  DecisionTreeClassifier(class_weight=None, crit...   \n",
       "15         DT  DecisionTreeClassifier(class_weight=None, crit...   \n",
       "16         DT  DecisionTreeClassifier(class_weight=None, crit...   \n",
       "17         DT  DecisionTreeClassifier(class_weight=None, crit...   \n",
       "18         DT  DecisionTreeClassifier(class_weight=None, crit...   \n",
       "19         DT  DecisionTreeClassifier(class_weight=None, crit...   \n",
       "20         DT  DecisionTreeClassifier(class_weight=None, crit...   \n",
       "21         DT  DecisionTreeClassifier(class_weight=None, crit...   \n",
       "22         DT  DecisionTreeClassifier(class_weight=None, crit...   \n",
       "23         DT  DecisionTreeClassifier(class_weight=None, crit...   \n",
       "\n",
       "                                           parameters train_set_size  \\\n",
       "0   {'criterion': 'gini', 'max_depth': 1, 'min_sam...          84804   \n",
       "1   {'criterion': 'gini', 'max_depth': 1, 'min_sam...          84804   \n",
       "2   {'criterion': 'gini', 'max_depth': 1, 'min_sam...          84804   \n",
       "3   {'criterion': 'gini', 'max_depth': 5, 'min_sam...          84804   \n",
       "4   {'criterion': 'gini', 'max_depth': 5, 'min_sam...          84804   \n",
       "5   {'criterion': 'gini', 'max_depth': 5, 'min_sam...          84804   \n",
       "6   {'criterion': 'gini', 'max_depth': 10, 'min_sa...          84804   \n",
       "7   {'criterion': 'gini', 'max_depth': 10, 'min_sa...          84804   \n",
       "8   {'criterion': 'gini', 'max_depth': 10, 'min_sa...          84804   \n",
       "9   {'criterion': 'gini', 'max_depth': 20, 'min_sa...          84804   \n",
       "10  {'criterion': 'gini', 'max_depth': 20, 'min_sa...          84804   \n",
       "11  {'criterion': 'gini', 'max_depth': 20, 'min_sa...          84804   \n",
       "12  {'criterion': 'entropy', 'max_depth': 1, 'min_...          84804   \n",
       "13  {'criterion': 'entropy', 'max_depth': 1, 'min_...          84804   \n",
       "14  {'criterion': 'entropy', 'max_depth': 1, 'min_...          84804   \n",
       "15  {'criterion': 'entropy', 'max_depth': 5, 'min_...          84804   \n",
       "16  {'criterion': 'entropy', 'max_depth': 5, 'min_...          84804   \n",
       "17  {'criterion': 'entropy', 'max_depth': 5, 'min_...          84804   \n",
       "18  {'criterion': 'entropy', 'max_depth': 10, 'min...          84804   \n",
       "19  {'criterion': 'entropy', 'max_depth': 10, 'min...          84804   \n",
       "20  {'criterion': 'entropy', 'max_depth': 10, 'min...          84804   \n",
       "21  {'criterion': 'entropy', 'max_depth': 20, 'min...          84804   \n",
       "22  {'criterion': 'entropy', 'max_depth': 20, 'min...          84804   \n",
       "23  {'criterion': 'entropy', 'max_depth': 20, 'min...          84804   \n",
       "\n",
       "   validation_set_size  baseline  precision_at_5  precision_at_10  \\\n",
       "0                 7479  0.353122        0.431635         0.416332   \n",
       "1                 7479  0.353122        0.431635         0.416332   \n",
       "2                 7479  0.353122        0.431635         0.416332   \n",
       "3                 7479  0.353122        0.514745         0.497992   \n",
       "4                 7479  0.353122        0.514745         0.497992   \n",
       "5                 7479  0.353122        0.514745         0.497992   \n",
       "6                 7479  0.353122        0.646113         0.586345   \n",
       "7                 7479  0.353122        0.648794         0.583668   \n",
       "8                 7479  0.353122        0.635389         0.582329   \n",
       "9                 7479  0.353122        0.994638         0.943775   \n",
       "10                7479  0.353122        0.994638         0.904953   \n",
       "11                7479  0.353122        0.962466         0.851406   \n",
       "12                7479  0.353122        0.407507         0.393574   \n",
       "13                7479  0.353122        0.407507         0.393574   \n",
       "14                7479  0.353122        0.407507         0.393574   \n",
       "15                7479  0.353122        0.525469         0.506024   \n",
       "16                7479  0.353122        0.525469         0.506024   \n",
       "17                7479  0.353122        0.525469         0.506024   \n",
       "18                7479  0.353122        0.635389         0.564926   \n",
       "19                7479  0.353122        0.635389         0.566265   \n",
       "20                7479  0.353122        0.627346         0.562249   \n",
       "21                7479  0.353122        0.994638         0.851406   \n",
       "22                7479  0.353122        0.981233         0.831325   \n",
       "23                7479  0.353122        0.922252         0.791165   \n",
       "\n",
       "    precision_at_20  precision_at_30  precision_at_40  precision_at_50  \\\n",
       "0          0.433445         0.438252         0.428619         0.427654   \n",
       "1          0.433445         0.438252         0.428619         0.427654   \n",
       "2          0.433445         0.438252         0.428619         0.427654   \n",
       "3          0.494983         0.489077         0.461050         0.445039   \n",
       "4          0.494983         0.489077         0.461050         0.445039   \n",
       "5          0.494983         0.489077         0.461050         0.445039   \n",
       "6          0.539130         0.498440         0.474423         0.454667   \n",
       "7          0.539130         0.498440         0.474423         0.457074   \n",
       "8          0.537124         0.499777         0.470746         0.452795   \n",
       "9          0.744482         0.652251         0.588766         0.544798   \n",
       "10         0.721739         0.636647         0.579405         0.534635   \n",
       "11         0.688294         0.617477         0.563357         0.523937   \n",
       "12         0.420736         0.429782         0.421598         0.412142   \n",
       "13         0.420736         0.429782         0.421598         0.412142   \n",
       "14         0.420736         0.429782         0.421598         0.412142   \n",
       "15         0.502341         0.485510         0.463390         0.447178   \n",
       "16         0.502341         0.485510         0.463390         0.447178   \n",
       "17         0.502341         0.485510         0.463390         0.447178   \n",
       "18         0.526421         0.500223         0.475426         0.453330   \n",
       "19         0.529766         0.500669         0.475092         0.451190   \n",
       "20         0.528428         0.500223         0.476764         0.450923   \n",
       "21         0.683612         0.608114         0.555333         0.522332   \n",
       "22         0.677592         0.602764         0.551655         0.518320   \n",
       "23         0.654849         0.590281         0.545303         0.512436   \n",
       "\n",
       "    recall_at_5  recall_at_10  recall_at_20  recall_at_30  recall_at_40  \\\n",
       "0      0.060962      0.117758      0.245362      0.372207      0.485422   \n",
       "1      0.060962      0.117758      0.245362      0.372207      0.485422   \n",
       "2      0.060962      0.117758      0.245362      0.372207      0.485422   \n",
       "3      0.072700      0.140856      0.280197      0.415373      0.522151   \n",
       "4      0.072700      0.140856      0.280197      0.415373      0.522151   \n",
       "5      0.072700      0.140856      0.280197      0.415373      0.522151   \n",
       "6      0.091253      0.165846      0.305187      0.423324      0.537296   \n",
       "7      0.091632      0.165089      0.305187      0.423324      0.537296   \n",
       "8      0.089739      0.164710      0.304051      0.424460      0.533131   \n",
       "9      0.140477      0.266944      0.421431      0.553957      0.666793   \n",
       "10     0.140477      0.255964      0.408557      0.540704      0.656191   \n",
       "11     0.135933      0.240818      0.389625      0.524423      0.638016   \n",
       "12     0.057554      0.111321      0.238167      0.365013      0.477471   \n",
       "13     0.057554      0.111321      0.238167      0.365013      0.477471   \n",
       "14     0.057554      0.111321      0.238167      0.365013      0.477471   \n",
       "15     0.074214      0.143128      0.284362      0.412344      0.524801   \n",
       "16     0.074214      0.143128      0.284362      0.412344      0.524801   \n",
       "17     0.074214      0.143128      0.284362      0.412344      0.524801   \n",
       "18     0.089739      0.159788      0.297993      0.424839      0.538432   \n",
       "19     0.089739      0.160167      0.299886      0.425218      0.538054   \n",
       "20     0.088603      0.159031      0.299129      0.424839      0.539947   \n",
       "21     0.140477      0.240818      0.386975      0.516471      0.628928   \n",
       "22     0.138584      0.235138      0.383567      0.511927      0.624763   \n",
       "23     0.130254      0.223779      0.370693      0.501325      0.617569   \n",
       "\n",
       "    recall_at_50   auc-roc  \n",
       "0       0.605452  0.606432  \n",
       "1       0.605452  0.606432  \n",
       "2       0.605452  0.606432  \n",
       "3       0.630064  0.647338  \n",
       "4       0.630064  0.647338  \n",
       "5       0.630064  0.647338  \n",
       "6       0.643696  0.668958  \n",
       "7       0.647103  0.668814  \n",
       "8       0.641045  0.667543  \n",
       "9       0.771299  0.806938  \n",
       "10      0.756910  0.793447  \n",
       "11      0.741764  0.775679  \n",
       "12      0.583491  0.599188  \n",
       "13      0.583491  0.599188  \n",
       "14      0.583491  0.599188  \n",
       "15      0.633094  0.649036  \n",
       "16      0.633094  0.649036  \n",
       "17      0.633094  0.649036  \n",
       "18      0.641802  0.664908  \n",
       "19      0.638773  0.664813  \n",
       "20      0.638395  0.664412  \n",
       "21      0.739493  0.774410  \n",
       "22      0.733813  0.769044  \n",
       "23      0.725483  0.757252  "
      ]
     },
     "execution_count": 9,
     "metadata": {},
     "output_type": "execute_result"
    }
   ],
   "source": [
    "mydf"
   ]
  },
  {
   "cell_type": "markdown",
   "metadata": {},
   "source": [
    "For this particular dataset, we have a number of categorical columns; in this case, I will opt to drop NAs; with the information we have on hand, it doesn't make sense to impute categories such as a school's focus area or poverty level. I'm subsetting this to columns planned to include in the analysis -- so if there is a na in a different column, we will retain it."
   ]
  },
  {
   "cell_type": "code",
   "execution_count": null,
   "metadata": {},
   "outputs": [],
   "source": [
    "print('Current shape:', df.shape)"
   ]
  },
  {
   "cell_type": "code",
   "execution_count": null,
   "metadata": {},
   "outputs": [],
   "source": [
    "df = df.dropna(axis=0,subset=['time_to_funding','total_price_including_optional_support','students_reached'])\n",
    "print('New shape:', df.shape)"
   ]
  },
  {
   "cell_type": "markdown",
   "metadata": {},
   "source": [
    "We can now look at some summary stats for the numerical columns with the cleaned dataset we are going to be working with. We can see that the average time to funding is 48 days, with a median of 41, so it is skewed upwards. The average total price is about 670 dollars, and on averge 90 students are reached."
   ]
  },
  {
   "cell_type": "code",
   "execution_count": null,
   "metadata": {},
   "outputs": [],
   "source": [
    "pipeline_revised.calc_summary_stats(df,cols_to_include=['time_to_funding','total_price_including_optional_support','students_reached'])"
   ]
  },
  {
   "cell_type": "code",
   "execution_count": null,
   "metadata": {},
   "outputs": [],
   "source": [
    "#We will convert the time-to-funding column to be binary as required for some of the models\n",
    "df['time_tf'] = np.where(df['time_to_funding']>=60, 1, 0)\n",
    "\n",
    "#We will convert a few columns to use in our analysis\n",
    "df = pipeline_revised.create_binary_col(df, 'eligible_double_your_impact_match', {'t':1,'f':0})\n",
    "df = pipeline_revised.discretize_categorical(df, ['poverty_level','resource_type','primary_focus_subject','school_metro'])\n",
    "\n",
    "#Now we can look at columns to grab which we want as predictors\n",
    "df.columns"
   ]
  },
  {
   "cell_type": "markdown",
   "metadata": {},
   "source": [
    "Now that the data is in the right format, we will work through the different models and look at their evaluation performance.\n",
    "\n",
    "We can first start with the decision tree. "
   ]
  },
  {
   "cell_type": "markdown",
   "metadata": {},
   "source": [
    "## Decision Tree Classifier"
   ]
  },
  {
   "cell_type": "code",
   "execution_count": null,
   "metadata": {
    "scrolled": true
   },
   "outputs": [],
   "source": [
    "start_list = ['2013-06-30', '2013-05-31', '2013-04-30']\n",
    "end_list = ['2013-12-31', '2013-11-30','2013-10-31']\n",
    "thresholds = [.01,.02,.05,.1,.2,.3,.5]\n",
    "depth_list = [3, 4]\n",
    "trees = []\n",
    "\n",
    "for i, date in enumerate(start_list):\n",
    "    end_date = end_list[i]\n",
    "    for depth in depth_list:\n",
    "        for threshold in thresholds:\n",
    "            tree_name = 'tree_' + date + '_' + str(threshold) + '_' + str(depth)\n",
    "            y_test, y_predict, y_score, features = pipeline_revised.create_decision_tree(df, 'time_tf', depth ,500 ,tree_name, threshold=threshold,\n",
    "                                                          predictors=['total_price_including_optional_support', 'students_reached','poverty_level_high poverty', 'poverty_level_highest poverty',\n",
    "       'poverty_level_low poverty', 'poverty_level_moderate poverty','resource_type_Books', 'resource_type_Other', 'resource_type_Supplies',\n",
    "       'resource_type_Technology', 'resource_type_Trips',\n",
    "       'resource_type_Visitors','school_metro_rural',\n",
    "       'school_metro_suburban', 'school_metro_urban','primary_focus_subject_Applied Sciences',\n",
    "       'primary_focus_subject_Character Education',\n",
    "       'primary_focus_subject_Civics & Government',\n",
    "       'primary_focus_subject_College & Career Prep',\n",
    "       'primary_focus_subject_Community Service', 'primary_focus_subject_ESL',\n",
    "       'primary_focus_subject_Early Development',\n",
    "       'primary_focus_subject_Economics',\n",
    "       'primary_focus_subject_Environmental Science',\n",
    "       'primary_focus_subject_Extracurricular',\n",
    "       'primary_focus_subject_Foreign Languages',\n",
    "       'primary_focus_subject_Gym & Fitness',\n",
    "       'primary_focus_subject_Health & Life Science',\n",
    "       'primary_focus_subject_Health & Wellness',\n",
    "       'primary_focus_subject_History & Geography',\n",
    "       'primary_focus_subject_Literacy',\n",
    "       'primary_focus_subject_Literature & Writing',\n",
    "       'primary_focus_subject_Mathematics', 'primary_focus_subject_Music',\n",
    "       'primary_focus_subject_Nutrition', 'primary_focus_subject_Other',\n",
    "       'primary_focus_subject_Parent Involvement',\n",
    "       'primary_focus_subject_Performing Arts',\n",
    "       'primary_focus_subject_Social Sciences',\n",
    "       'primary_focus_subject_Special Needs', 'primary_focus_subject_Sports',\n",
    "       'primary_focus_subject_Visual Arts'],temporal=True, start_col='date_posted',end_col='datefullyfunded',start_date=date,end_date=end_date)\n",
    "            \n",
    "            trees.append((tree_name,y_test,y_predict, y_score, features))\n"
   ]
  },
  {
   "cell_type": "markdown",
   "metadata": {},
   "source": [
    "We will create a table which shows the performance of the different iterations of the model."
   ]
  },
  {
   "cell_type": "code",
   "execution_count": null,
   "metadata": {},
   "outputs": [],
   "source": [
    "tree_metrics = pd.DataFrame(columns=['name','accuracy','precision','auc','recall','f1'])\n",
    "\n",
    "for i in range(len(trees)):\n",
    "    name, test, predict, _, _ = trees[i]\n",
    "    accuracy, precision, auc, recall, f1 = pipeline_revised.evaluate_model(test, predict)\n",
    "    tree_metrics.loc[i,'name'] = name\n",
    "    tree_metrics.loc[i,'accuracy'] = accuracy\n",
    "    tree_metrics.loc[i,'precision'] = precision\n",
    "    tree_metrics.loc[i,'auc'] = auc\n",
    "    tree_metrics.loc[i,'recall'] = recall\n",
    "    tree_metrics.loc[i,'f1'] = f1\n",
    "\n",
    "tree_metrics"
   ]
  },
  {
   "cell_type": "markdown",
   "metadata": {},
   "source": [
    "Some of trees (as will happen with later models) have precision / recall of 0 because they were lacking true positives. Let's visualize the one which has the highest area under the curve."
   ]
  },
  {
   "cell_type": "code",
   "execution_count": null,
   "metadata": {},
   "outputs": [],
   "source": [
    "(graph,) = pydot.graph_from_dot_file('tree_2013-06-30_0.3_4')"
   ]
  },
  {
   "cell_type": "code",
   "execution_count": null,
   "metadata": {},
   "outputs": [],
   "source": [
    "graph.write_png('tree_1.png')"
   ]
  },
  {
   "cell_type": "code",
   "execution_count": null,
   "metadata": {},
   "outputs": [],
   "source": [
    "from IPython.display import Image\n",
    "Image(\"tree_1.png\")"
   ]
  },
  {
   "cell_type": "code",
   "execution_count": null,
   "metadata": {},
   "outputs": [],
   "source": [
    "#Citation for precision recall curve - sklearn documentation\n",
    "from sklearn.metrics import precision_recall_curve\n",
    "import matplotlib.pyplot as plt\n",
    "from sklearn.utils.fixes import signature\n",
    "from sklearn.metrics import average_precision_score\n",
    "\n",
    "_, test, _, score, _ = trees[12]\n",
    "clean_score = [x[1] for x in score]\n",
    "\n",
    "precision, recall, _ = precision_recall_curve(test, clean_score)\n",
    "average_precision = average_precision_score(test, clean_score)\n",
    "\n",
    "step_kwargs = ({'step': 'post'}\n",
    "               if 'step' in signature(plt.fill_between).parameters\n",
    "               else {})\n",
    "plt.step(recall, precision, color='b', alpha=0.2,\n",
    "         where='post')\n",
    "plt.fill_between(recall, precision, alpha=0.2, color='b', **step_kwargs)\n",
    "\n",
    "plt.xlabel('Recall')\n",
    "plt.ylabel('Precision')\n",
    "plt.ylim([0.0, 1.05])\n",
    "plt.xlim([0.0, 1.0])\n",
    "plt.title('2-class Precision-Recall curve: AP={0:0.2f}'.format(\n",
    "          average_precision))"
   ]
  },
  {
   "cell_type": "markdown",
   "metadata": {},
   "source": [
    "This will be discussed in the policy write-up, but overall the performance across the models will be fairly similar. Investigating model documentation suggests that feature selection can be the most important -- selecting on different models with good or bad features will perform in line with that. Let's visualize the most important features for this classifier."
   ]
  },
  {
   "cell_type": "code",
   "execution_count": null,
   "metadata": {},
   "outputs": [],
   "source": [
    "feature_scores = (trees[12][4])\n",
    "feature_names = ['total_price_including_optional_support', 'students_reached','poverty_level_high poverty', 'poverty_level_highest poverty',\n",
    "       'poverty_level_low poverty', 'poverty_level_moderate poverty','resource_type_Books', 'resource_type_Other', 'resource_type_Supplies',\n",
    "       'resource_type_Technology', 'resource_type_Trips',\n",
    "       'resource_type_Visitors','school_metro_rural',\n",
    "       'school_metro_suburban', 'school_metro_urban','primary_focus_subject_Applied Sciences',\n",
    "       'primary_focus_subject_Character Education',\n",
    "       'primary_focus_subject_Civics & Government',\n",
    "       'primary_focus_subject_College & Career Prep',\n",
    "       'primary_focus_subject_Community Service', 'primary_focus_subject_ESL',\n",
    "       'primary_focus_subject_Early Development',\n",
    "       'primary_focus_subject_Economics',\n",
    "       'primary_focus_subject_Environmental Science',\n",
    "       'primary_focus_subject_Extracurricular',\n",
    "       'primary_focus_subject_Foreign Languages',\n",
    "       'primary_focus_subject_Gym & Fitness',\n",
    "       'primary_focus_subject_Health & Life Science',\n",
    "       'primary_focus_subject_Health & Wellness',\n",
    "       'primary_focus_subject_History & Geography',\n",
    "       'primary_focus_subject_Literacy',\n",
    "       'primary_focus_subject_Literature & Writing',\n",
    "       'primary_focus_subject_Mathematics', 'primary_focus_subject_Music',\n",
    "       'primary_focus_subject_Nutrition', 'primary_focus_subject_Other',\n",
    "       'primary_focus_subject_Parent Involvement',\n",
    "       'primary_focus_subject_Performing Arts',\n",
    "       'primary_focus_subject_Social Sciences',\n",
    "       'primary_focus_subject_Special Needs', 'primary_focus_subject_Sports',\n",
    "       'primary_focus_subject_Visual Arts']\n",
    "\n",
    "d = {'Features': feature_names, \"Importance\": feature_scores}\n",
    "feature_importance = pd.DataFrame(data=d)\n",
    "feature_importance = feature_importance.sort_values(by=['Importance'], ascending=False)\n",
    "feature_importance"
   ]
  },
  {
   "cell_type": "markdown",
   "metadata": {},
   "source": [
    "As we can see above, the most relevant features are the total price of the request; the school being in an urban area; and it being directed toward trips."
   ]
  },
  {
   "cell_type": "markdown",
   "metadata": {},
   "source": [
    "## Nearest Neighbor Classifier"
   ]
  },
  {
   "cell_type": "code",
   "execution_count": null,
   "metadata": {},
   "outputs": [],
   "source": [
    "start_list = ['2013-06-30', '2013-05-31', '2013-04-30']\n",
    "end_list = ['2013-12-31', '2013-11-30','2013-10-31']\n",
    "neighbor_list = [10, 50]\n",
    "thresholds = [.01,.02,.05,.1,.2,.3,.5]\n",
    "metrics = [\"euclidean\", \"minkowski\"]\n",
    "neighbors = []\n",
    "\n",
    "for i, date in enumerate(start_list):\n",
    "    end_date = end_list[i]\n",
    "    for n in neighbor_list:\n",
    "        for metric in metrics:\n",
    "            for threshold in thresholds:\n",
    "                model_name = 'knn_' + date + '_' + str(n) + '_' + str(threshold) +'_' + metric\n",
    "                p_test, p_predict, p_score, params = pipeline_revised.knn_classify(df, 'time_tf', n, metric, threshold = threshold,\n",
    "                                                                               predictors=['total_price_including_optional_support', 'students_reached','poverty_level_high poverty', 'poverty_level_highest poverty',\n",
    "       'poverty_level_low poverty', 'poverty_level_moderate poverty','resource_type_Books', 'resource_type_Other', 'resource_type_Supplies',\n",
    "       'resource_type_Technology', 'resource_type_Trips',\n",
    "       'resource_type_Visitors','school_metro_rural',\n",
    "       'school_metro_suburban', 'school_metro_urban','primary_focus_subject_Applied Sciences',\n",
    "       'primary_focus_subject_Character Education',\n",
    "       'primary_focus_subject_Civics & Government',\n",
    "       'primary_focus_subject_College & Career Prep',\n",
    "       'primary_focus_subject_Community Service', 'primary_focus_subject_ESL',\n",
    "       'primary_focus_subject_Early Development',\n",
    "       'primary_focus_subject_Economics',\n",
    "       'primary_focus_subject_Environmental Science',\n",
    "       'primary_focus_subject_Extracurricular',\n",
    "       'primary_focus_subject_Foreign Languages',\n",
    "       'primary_focus_subject_Gym & Fitness',\n",
    "       'primary_focus_subject_Health & Life Science',\n",
    "       'primary_focus_subject_Health & Wellness',\n",
    "       'primary_focus_subject_History & Geography',\n",
    "       'primary_focus_subject_Literacy',\n",
    "       'primary_focus_subject_Literature & Writing',\n",
    "       'primary_focus_subject_Mathematics', 'primary_focus_subject_Music',\n",
    "       'primary_focus_subject_Nutrition', 'primary_focus_subject_Other',\n",
    "       'primary_focus_subject_Parent Involvement',\n",
    "       'primary_focus_subject_Performing Arts',\n",
    "       'primary_focus_subject_Social Sciences',\n",
    "       'primary_focus_subject_Special Needs', 'primary_focus_subject_Sports',\n",
    "       'primary_focus_subject_Visual Arts'],temporal=True, start_col='date_posted',end_col='datefullyfunded',start_date=date,end_date=end_date)\n",
    "                neighbors.append((model_name, p_test, p_predict, p_score, params))"
   ]
  },
  {
   "cell_type": "markdown",
   "metadata": {},
   "source": [
    "We will create a table which shows the performance of the different iterations of the model."
   ]
  },
  {
   "cell_type": "code",
   "execution_count": null,
   "metadata": {},
   "outputs": [],
   "source": [
    "knn_metrics = pd.DataFrame(columns=['name','accuracy','precision','auc','recall','f1'])\n",
    "\n",
    "for i in range(len(neighbors)):\n",
    "    name, test, predict, _, _ = neighbors[i]\n",
    "    accuracy, precision, auc, recall, f1 = pipeline_revised.evaluate_model(test, predict)\n",
    "    knn_metrics.loc[i,'name'] = name\n",
    "    knn_metrics.loc[i,'accuracy'] = accuracy\n",
    "    knn_metrics.loc[i,'precision'] = precision\n",
    "    knn_metrics.loc[i,'auc'] = auc\n",
    "    knn_metrics.loc[i,'recall'] = recall\n",
    "    knn_metrics.loc[i,'f1'] = f1\n",
    "\n",
    "knn_metrics"
   ]
  },
  {
   "cell_type": "markdown",
   "metadata": {},
   "source": [
    "The top performing ones from an area under the curve perspective had number of neighbors of 50, threshold .3 -- but the distance mechanism didn't matter. We can check the characteristics for one of these if we want."
   ]
  },
  {
   "cell_type": "code",
   "execution_count": null,
   "metadata": {},
   "outputs": [],
   "source": [
    "#neighbors[80][4]"
   ]
  },
  {
   "cell_type": "markdown",
   "metadata": {},
   "source": [
    "## Logistic Classifier"
   ]
  },
  {
   "cell_type": "code",
   "execution_count": null,
   "metadata": {},
   "outputs": [],
   "source": [
    "start_list = ['2013-06-30', '2013-05-31', '2013-04-30']\n",
    "end_list = ['2013-12-31', '2013-11-30','2013-10-31']\n",
    "thresholds = [.01,.02,.05,.1,.2,.3,.5]\n",
    "penalties = ['l1','l2']\n",
    "c_values = [.01, 1]\n",
    "regressions = []\n",
    "\n",
    "for i, date in enumerate(start_list):\n",
    "    end_date = end_list[i]\n",
    "    for t in thresholds:\n",
    "        for penalty in penalties:\n",
    "            for c in c_values:\n",
    "                model_name = 'reg_' + date + '_' + str(t) + '_' + penalty + '_' + str(c)\n",
    "                r_test, r_predict, r_score, coeffs = pipeline_revised.logistic_classify(df, 'time_tf', penalty, c, threshold = t,\n",
    "                                                                               predictors=['total_price_including_optional_support', 'students_reached','poverty_level_high poverty', 'poverty_level_highest poverty',\n",
    "       'poverty_level_low poverty', 'poverty_level_moderate poverty','resource_type_Books', 'resource_type_Other', 'resource_type_Supplies',\n",
    "       'resource_type_Technology', 'resource_type_Trips',\n",
    "       'resource_type_Visitors','school_metro_rural',\n",
    "       'school_metro_suburban', 'school_metro_urban','primary_focus_subject_Applied Sciences',\n",
    "       'primary_focus_subject_Character Education',\n",
    "       'primary_focus_subject_Civics & Government',\n",
    "       'primary_focus_subject_College & Career Prep',\n",
    "       'primary_focus_subject_Community Service', 'primary_focus_subject_ESL',\n",
    "       'primary_focus_subject_Early Development',\n",
    "       'primary_focus_subject_Economics',\n",
    "       'primary_focus_subject_Environmental Science',\n",
    "       'primary_focus_subject_Extracurricular',\n",
    "       'primary_focus_subject_Foreign Languages',\n",
    "       'primary_focus_subject_Gym & Fitness',\n",
    "       'primary_focus_subject_Health & Life Science',\n",
    "       'primary_focus_subject_Health & Wellness',\n",
    "       'primary_focus_subject_History & Geography',\n",
    "       'primary_focus_subject_Literacy',\n",
    "       'primary_focus_subject_Literature & Writing',\n",
    "       'primary_focus_subject_Mathematics', 'primary_focus_subject_Music',\n",
    "       'primary_focus_subject_Nutrition', 'primary_focus_subject_Other',\n",
    "       'primary_focus_subject_Parent Involvement',\n",
    "       'primary_focus_subject_Performing Arts',\n",
    "       'primary_focus_subject_Social Sciences',\n",
    "       'primary_focus_subject_Special Needs', 'primary_focus_subject_Sports',\n",
    "       'primary_focus_subject_Visual Arts'],temporal=True, start_col='date_posted',end_col='datefullyfunded',start_date=date,end_date=end_date)\n",
    "                regressions.append((model_name, r_test, r_predict, r_score, coeffs))\n"
   ]
  },
  {
   "cell_type": "markdown",
   "metadata": {},
   "source": [
    "We will create a table which shows the performance of the different iterations of the model."
   ]
  },
  {
   "cell_type": "code",
   "execution_count": null,
   "metadata": {},
   "outputs": [],
   "source": [
    "pd.set_option(\"display.max_rows\", 100)\n",
    "log_metrics = pd.DataFrame(columns=['name','accuracy','precision','auc','recall','f1'])\n",
    "\n",
    "for i in range(len(regressions)):\n",
    "    name, test, predict, _, _ = regressions[i]\n",
    "    accuracy, precision, auc, recall, f1 = pipeline_revised.evaluate_model(test, predict)\n",
    "    log_metrics.loc[i,'name'] = name\n",
    "    log_metrics.loc[i,'accuracy'] = accuracy\n",
    "    log_metrics.loc[i,'precision'] = precision\n",
    "    log_metrics.loc[i,'auc'] = auc\n",
    "    log_metrics.loc[i,'recall'] = recall\n",
    "    log_metrics.loc[i,'f1'] = f1\n",
    "\n",
    "log_metrics"
   ]
  },
  {
   "cell_type": "markdown",
   "metadata": {},
   "source": [
    "Regression 21 had the highest area under the curve, and one of the higher accuracies; we can visualize the weights given to the different features if we wanted."
   ]
  },
  {
   "cell_type": "code",
   "execution_count": null,
   "metadata": {},
   "outputs": [],
   "source": [
    "#regressions[21][4]"
   ]
  },
  {
   "cell_type": "markdown",
   "metadata": {},
   "source": [
    "## SVM "
   ]
  },
  {
   "cell_type": "code",
   "execution_count": null,
   "metadata": {},
   "outputs": [],
   "source": [
    "start_list = ['2013-06-30', '2013-05-31', '2013-04-30']\n",
    "end_list = ['2013-12-31', '2013-11-30','2013-10-31']\n",
    "thresholds = [.01,.02,.05,.1,.2,.3,.5]\n",
    "c_values = [1, 10]\n",
    "svm = []\n",
    "\n",
    "for i, date in enumerate(start_list):\n",
    "    end_date = end_list[i]\n",
    "    for t in thresholds:\n",
    "        for c in c_values:\n",
    "            model_name = 'svm_' + date + '_' + str(t) + '_' + str(c)\n",
    "            s_test, s_predict, s_score = pipeline_revised.SVM_classify(df, 'time_tf', c, threshold = t,\n",
    "                                                                               predictors=['total_price_including_optional_support', 'students_reached','poverty_level_high poverty', 'poverty_level_highest poverty',\n",
    "       'poverty_level_low poverty', 'poverty_level_moderate poverty','resource_type_Books', 'resource_type_Other', 'resource_type_Supplies',\n",
    "       'resource_type_Technology', 'resource_type_Trips',\n",
    "       'resource_type_Visitors','school_metro_rural',\n",
    "       'school_metro_suburban', 'school_metro_urban','primary_focus_subject_Applied Sciences',\n",
    "       'primary_focus_subject_Character Education',\n",
    "       'primary_focus_subject_Civics & Government',\n",
    "       'primary_focus_subject_College & Career Prep',\n",
    "       'primary_focus_subject_Community Service', 'primary_focus_subject_ESL',\n",
    "       'primary_focus_subject_Early Development',\n",
    "       'primary_focus_subject_Economics',\n",
    "       'primary_focus_subject_Environmental Science',\n",
    "       'primary_focus_subject_Extracurricular',\n",
    "       'primary_focus_subject_Foreign Languages',\n",
    "       'primary_focus_subject_Gym & Fitness',\n",
    "       'primary_focus_subject_Health & Life Science',\n",
    "       'primary_focus_subject_Health & Wellness',\n",
    "       'primary_focus_subject_History & Geography',\n",
    "       'primary_focus_subject_Literacy',\n",
    "       'primary_focus_subject_Literature & Writing',\n",
    "       'primary_focus_subject_Mathematics', 'primary_focus_subject_Music',\n",
    "       'primary_focus_subject_Nutrition', 'primary_focus_subject_Other',\n",
    "       'primary_focus_subject_Parent Involvement',\n",
    "       'primary_focus_subject_Performing Arts',\n",
    "       'primary_focus_subject_Social Sciences',\n",
    "       'primary_focus_subject_Special Needs', 'primary_focus_subject_Sports',\n",
    "       'primary_focus_subject_Visual Arts'],temporal=True, start_col='date_posted',end_col='datefullyfunded',start_date=date,end_date=end_date)\n",
    "            svm.append((model_name, s_test, s_predict, s_score))\n"
   ]
  },
  {
   "cell_type": "markdown",
   "metadata": {},
   "source": [
    "Let's now create a table showing the performance of the different metrics."
   ]
  },
  {
   "cell_type": "code",
   "execution_count": null,
   "metadata": {},
   "outputs": [],
   "source": [
    "svm_metrics = pd.DataFrame(columns=['name','accuracy','precision','auc','recall','f1'])\n",
    "\n",
    "for i in range(len(svm)):\n",
    "    name, test, predict, _, = svm[i]\n",
    "    accuracy, precision, auc, recall, f1 = pipeline_revised.evaluate_model(test, predict)\n",
    "    svm_metrics.loc[i,'name'] = name\n",
    "    svm_metrics.loc[i,'accuracy'] = accuracy\n",
    "    svm_metrics.loc[i,'precision'] = precision\n",
    "    svm_metrics.loc[i,'auc'] = auc\n",
    "    svm_metrics.loc[i,'recall'] = recall\n",
    "    svm_metrics.loc[i,'f1'] = f1\n",
    "\n",
    "svm_metrics"
   ]
  },
  {
   "cell_type": "markdown",
   "metadata": {},
   "source": [
    "As we can see above, model # 10, with threshold of .3, has the highest area under the curve, but mediocre accuracy."
   ]
  },
  {
   "cell_type": "markdown",
   "metadata": {},
   "source": [
    "## Random Forest\n",
    "Note - random forest models incorporate bagging; thus this serves for both the random forest and bagging model requirements outline in the assignment."
   ]
  },
  {
   "cell_type": "code",
   "execution_count": null,
   "metadata": {},
   "outputs": [],
   "source": [
    "start_list = ['2013-06-30', '2013-05-31', '2013-04-30']\n",
    "end_list = ['2013-12-31', '2013-11-30','2013-10-31']\n",
    "thresholds = [.01,.02,.05,.1,.2,.3,.5]\n",
    "max_depth = [3, 4]\n",
    "forest = []\n",
    "\n",
    "for i, date in enumerate(start_list):\n",
    "    end_date = end_list[i]\n",
    "    for t in thresholds:\n",
    "        for d in max_depth:\n",
    "            model_name = 'rf_' + date + '_' + str(t) + '_' + str(d)\n",
    "            f_test, f_predict, f_score, features = pipeline_revised.random_forest(df, 'time_tf', d, threshold = t,\n",
    "                                                                               predictors=['total_price_including_optional_support', 'students_reached','poverty_level_high poverty', 'poverty_level_highest poverty',\n",
    "       'poverty_level_low poverty', 'poverty_level_moderate poverty','resource_type_Books', 'resource_type_Other', 'resource_type_Supplies',\n",
    "       'resource_type_Technology', 'resource_type_Trips',\n",
    "       'resource_type_Visitors','school_metro_rural',\n",
    "       'school_metro_suburban', 'school_metro_urban','primary_focus_subject_Applied Sciences',\n",
    "       'primary_focus_subject_Character Education',\n",
    "       'primary_focus_subject_Civics & Government',\n",
    "       'primary_focus_subject_College & Career Prep',\n",
    "       'primary_focus_subject_Community Service', 'primary_focus_subject_ESL',\n",
    "       'primary_focus_subject_Early Development',\n",
    "       'primary_focus_subject_Economics',\n",
    "       'primary_focus_subject_Environmental Science',\n",
    "       'primary_focus_subject_Extracurricular',\n",
    "       'primary_focus_subject_Foreign Languages',\n",
    "       'primary_focus_subject_Gym & Fitness',\n",
    "       'primary_focus_subject_Health & Life Science',\n",
    "       'primary_focus_subject_Health & Wellness',\n",
    "       'primary_focus_subject_History & Geography',\n",
    "       'primary_focus_subject_Literacy',\n",
    "       'primary_focus_subject_Literature & Writing',\n",
    "       'primary_focus_subject_Mathematics', 'primary_focus_subject_Music',\n",
    "       'primary_focus_subject_Nutrition', 'primary_focus_subject_Other',\n",
    "       'primary_focus_subject_Parent Involvement',\n",
    "       'primary_focus_subject_Performing Arts',\n",
    "       'primary_focus_subject_Social Sciences',\n",
    "       'primary_focus_subject_Special Needs', 'primary_focus_subject_Sports',\n",
    "       'primary_focus_subject_Visual Arts'],temporal=True, start_col='date_posted',end_col='datefullyfunded',start_date=date,end_date=end_date)\n",
    "            forest.append((model_name, f_test, f_predict, f_score, features))\n"
   ]
  },
  {
   "cell_type": "markdown",
   "metadata": {},
   "source": [
    "We can now produce a chart of the models' relative performances."
   ]
  },
  {
   "cell_type": "code",
   "execution_count": null,
   "metadata": {},
   "outputs": [],
   "source": [
    "rf_metrics = pd.DataFrame(columns=['name','accuracy','precision','auc','recall','f1'])\n",
    "\n",
    "for i in range(len(forest)):\n",
    "    name, test, predict, _,_ = forest[i]\n",
    "    accuracy, precision, auc, recall, f1 = pipeline_revised.evaluate_model(test, predict)\n",
    "    rf_metrics.loc[i,'name'] = name\n",
    "    rf_metrics.loc[i,'accuracy'] = accuracy\n",
    "    rf_metrics.loc[i,'precision'] = precision\n",
    "    rf_metrics.loc[i,'auc'] = auc\n",
    "    rf_metrics.loc[i,'recall'] = recall\n",
    "    rf_metrics.loc[i,'f1'] = f1\n",
    "\n",
    "rf_metrics"
   ]
  },
  {
   "cell_type": "markdown",
   "metadata": {},
   "source": [
    "We can see that model 7 has the highest area under the curve, moderate accuract, and an average f1 (combined precision/recall) score among models."
   ]
  },
  {
   "cell_type": "code",
   "execution_count": null,
   "metadata": {},
   "outputs": [],
   "source": [
    "#If we wanted to see the feature values (associated with predictors input)\n",
    "#forest[7][4]"
   ]
  },
  {
   "cell_type": "markdown",
   "metadata": {},
   "source": [
    "## Gradient Boosting"
   ]
  },
  {
   "cell_type": "code",
   "execution_count": null,
   "metadata": {},
   "outputs": [],
   "source": [
    "start_list = ['2013-06-30', '2013-05-31', '2013-04-30']\n",
    "end_list = ['2013-12-31', '2013-11-30','2013-10-31']\n",
    "thresholds = [.01,.02,.05,.1,.2,.3,.5]\n",
    "max_features = [3, 4]\n",
    "gradient = []\n",
    "\n",
    "for i, date in enumerate(start_list):\n",
    "    end_date = end_list[i]\n",
    "    for t in thresholds:\n",
    "        for f in max_features:\n",
    "            model_name = 'gradient_' + date + '_' + str(t) + '_' + str(f)\n",
    "            g_test, g_predict, g_score = pipeline_revised.gradient_boost(df, 'time_tf', f, threshold = t,\n",
    "                                                                               predictors=['total_price_including_optional_support', 'students_reached','poverty_level_high poverty', 'poverty_level_highest poverty',\n",
    "       'poverty_level_low poverty', 'poverty_level_moderate poverty','resource_type_Books', 'resource_type_Other', 'resource_type_Supplies',\n",
    "       'resource_type_Technology', 'resource_type_Trips',\n",
    "       'resource_type_Visitors','school_metro_rural',\n",
    "       'school_metro_suburban', 'school_metro_urban','primary_focus_subject_Applied Sciences',\n",
    "       'primary_focus_subject_Character Education',\n",
    "       'primary_focus_subject_Civics & Government',\n",
    "       'primary_focus_subject_College & Career Prep',\n",
    "       'primary_focus_subject_Community Service', 'primary_focus_subject_ESL',\n",
    "       'primary_focus_subject_Early Development',\n",
    "       'primary_focus_subject_Economics',\n",
    "       'primary_focus_subject_Environmental Science',\n",
    "       'primary_focus_subject_Extracurricular',\n",
    "       'primary_focus_subject_Foreign Languages',\n",
    "       'primary_focus_subject_Gym & Fitness',\n",
    "       'primary_focus_subject_Health & Life Science',\n",
    "       'primary_focus_subject_Health & Wellness',\n",
    "       'primary_focus_subject_History & Geography',\n",
    "       'primary_focus_subject_Literacy',\n",
    "       'primary_focus_subject_Literature & Writing',\n",
    "       'primary_focus_subject_Mathematics', 'primary_focus_subject_Music',\n",
    "       'primary_focus_subject_Nutrition', 'primary_focus_subject_Other',\n",
    "       'primary_focus_subject_Parent Involvement',\n",
    "       'primary_focus_subject_Performing Arts',\n",
    "       'primary_focus_subject_Social Sciences',\n",
    "       'primary_focus_subject_Special Needs', 'primary_focus_subject_Sports',\n",
    "       'primary_focus_subject_Visual Arts'],temporal=True, start_col='date_posted',end_col='datefullyfunded',start_date=date,end_date=end_date)\n",
    "            gradient.append((model_name, g_test, g_predict, g_score))\n",
    "        "
   ]
  },
  {
   "cell_type": "markdown",
   "metadata": {},
   "source": [
    "We can now produce a chart of the models' relative performances."
   ]
  },
  {
   "cell_type": "code",
   "execution_count": null,
   "metadata": {},
   "outputs": [],
   "source": [
    "gradient_metrics = pd.DataFrame(columns=['name','accuracy','precision','auc','recall','f1'])\n",
    "\n",
    "for i in range(len(gradient)):\n",
    "    name, test, predict, _ = gradient[i]\n",
    "    accuracy, precision, auc, recall, f1 = pipeline_revised.evaluate_model(test, predict)\n",
    "    gradient_metrics.loc[i,'name'] = name\n",
    "    gradient_metrics.loc[i,'accuracy'] = accuracy\n",
    "    gradient_metrics.loc[i,'precision'] = precision\n",
    "    gradient_metrics.loc[i,'auc'] = auc\n",
    "    gradient_metrics.loc[i,'recall'] = recall\n",
    "    gradient_metrics.loc[i,'f1'] = f1\n",
    "\n",
    "gradient_metrics"
   ]
  },
  {
   "cell_type": "markdown",
   "metadata": {},
   "source": [
    "We can see that model 11 has highest area under the curve and one of the higher accuracies. "
   ]
  },
  {
   "cell_type": "markdown",
   "metadata": {},
   "source": [
    "## Baseline Classifier\n",
    "We will use sklearn's dummy classifier as a baseline for accuracy"
   ]
  },
  {
   "cell_type": "code",
   "execution_count": null,
   "metadata": {},
   "outputs": [],
   "source": [
    "start_list = ['2013-06-30', '2013-05-31', '2013-04-30']\n",
    "end_list = ['2013-12-31', '2013-11-30','2013-10-31']\n",
    "thresholds = [.01,.02,.05,.1,.2,.3,.5]\n",
    "dummy = []\n",
    "\n",
    "for i, date in enumerate(start_list):\n",
    "    end_date = end_list[i]\n",
    "    for t in thresholds:\n",
    "        model_name = 'dummy_' + date + '_' + str(t)\n",
    "        d_test, d_predict, d_score = pipeline_revised.dummy_baseline(df, 'time_tf', threshold = t,\n",
    "                                                                               predictors=['total_price_including_optional_support', 'students_reached','poverty_level_high poverty', 'poverty_level_highest poverty',\n",
    "       'poverty_level_low poverty', 'poverty_level_moderate poverty','resource_type_Books', 'resource_type_Other', 'resource_type_Supplies',\n",
    "       'resource_type_Technology', 'resource_type_Trips',\n",
    "       'resource_type_Visitors','school_metro_rural',\n",
    "       'school_metro_suburban', 'school_metro_urban','primary_focus_subject_Applied Sciences',\n",
    "       'primary_focus_subject_Character Education',\n",
    "       'primary_focus_subject_Civics & Government',\n",
    "       'primary_focus_subject_College & Career Prep',\n",
    "       'primary_focus_subject_Community Service', 'primary_focus_subject_ESL',\n",
    "       'primary_focus_subject_Early Development',\n",
    "       'primary_focus_subject_Economics',\n",
    "       'primary_focus_subject_Environmental Science',\n",
    "       'primary_focus_subject_Extracurricular',\n",
    "       'primary_focus_subject_Foreign Languages',\n",
    "       'primary_focus_subject_Gym & Fitness',\n",
    "       'primary_focus_subject_Health & Life Science',\n",
    "       'primary_focus_subject_Health & Wellness',\n",
    "       'primary_focus_subject_History & Geography',\n",
    "       'primary_focus_subject_Literacy',\n",
    "       'primary_focus_subject_Literature & Writing',\n",
    "       'primary_focus_subject_Mathematics', 'primary_focus_subject_Music',\n",
    "       'primary_focus_subject_Nutrition', 'primary_focus_subject_Other',\n",
    "       'primary_focus_subject_Parent Involvement',\n",
    "       'primary_focus_subject_Performing Arts',\n",
    "       'primary_focus_subject_Social Sciences',\n",
    "       'primary_focus_subject_Special Needs', 'primary_focus_subject_Sports',\n",
    "       'primary_focus_subject_Visual Arts'],temporal=True, start_col='date_posted',end_col='datefullyfunded',start_date=date,end_date=end_date)\n",
    "        dummy.append((model_name, d_test, d_predict, d_score))"
   ]
  },
  {
   "cell_type": "markdown",
   "metadata": {},
   "source": [
    "Now let's compute the performance metrics for the dummy variables generated."
   ]
  },
  {
   "cell_type": "code",
   "execution_count": null,
   "metadata": {},
   "outputs": [],
   "source": [
    "dummy_metrics = pd.DataFrame(columns=['name','accuracy','precision','auc','recall','f1'])\n",
    "\n",
    "for i in range(len(dummy)):\n",
    "    name, test, predict, _ = dummy[i]\n",
    "    accuracy, precision, auc, recall, f1 = pipeline_revised.evaluate_model(test, predict)\n",
    "    dummy_metrics.loc[i,'name'] = name\n",
    "    dummy_metrics.loc[i,'accuracy'] = accuracy\n",
    "    dummy_metrics.loc[i,'precision'] = precision\n",
    "    dummy_metrics.loc[i,'auc'] = auc\n",
    "    dummy_metrics.loc[i,'recall'] = recall\n",
    "    dummy_metrics.loc[i,'f1'] = f1\n",
    "\n",
    "dummy_metrics"
   ]
  },
  {
   "cell_type": "markdown",
   "metadata": {},
   "source": [
    "As we can see here, the performance of the dummy model on dimensions like AUC/accuracy does not achieve that of the \"highest performing\" models on those dimensions; however, it is not that far off. This will be described in the write-up in more depth."
   ]
  }
 ],
 "metadata": {
  "kernelspec": {
   "display_name": "Python 3",
   "language": "python",
   "name": "python3"
  },
  "language_info": {
   "codemirror_mode": {
    "name": "ipython",
    "version": 3
   },
   "file_extension": ".py",
   "mimetype": "text/x-python",
   "name": "python",
   "nbconvert_exporter": "python",
   "pygments_lexer": "ipython3",
   "version": "3.7.3"
  }
 },
 "nbformat": 4,
 "nbformat_minor": 2
}
